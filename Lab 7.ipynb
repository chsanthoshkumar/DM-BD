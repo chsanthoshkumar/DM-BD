{
 "cells": [
  {
   "cell_type": "code",
   "execution_count": 39,
   "id": "c6ab3e21",
   "metadata": {},
   "outputs": [
    {
     "data": {
      "text/html": [
       "<div>\n",
       "<style scoped>\n",
       "    .dataframe tbody tr th:only-of-type {\n",
       "        vertical-align: middle;\n",
       "    }\n",
       "\n",
       "    .dataframe tbody tr th {\n",
       "        vertical-align: top;\n",
       "    }\n",
       "\n",
       "    .dataframe thead th {\n",
       "        text-align: right;\n",
       "    }\n",
       "</style>\n",
       "<table border=\"1\" class=\"dataframe\">\n",
       "  <thead>\n",
       "    <tr style=\"text-align: right;\">\n",
       "      <th></th>\n",
       "      <th>Username</th>\n",
       "      <th>Identifier</th>\n",
       "      <th>Firstname</th>\n",
       "      <th>Lastname</th>\n",
       "    </tr>\n",
       "  </thead>\n",
       "  <tbody>\n",
       "    <tr>\n",
       "      <th>1</th>\n",
       "      <td>booker12</td>\n",
       "      <td>9012</td>\n",
       "      <td>Rachel</td>\n",
       "      <td>Booker</td>\n",
       "    </tr>\n",
       "    <tr>\n",
       "      <th>2</th>\n",
       "      <td>grey07</td>\n",
       "      <td>2070</td>\n",
       "      <td>Laura</td>\n",
       "      <td>Grey</td>\n",
       "    </tr>\n",
       "    <tr>\n",
       "      <th>3</th>\n",
       "      <td>johnson81</td>\n",
       "      <td>4081</td>\n",
       "      <td>Craig</td>\n",
       "      <td>Johnson</td>\n",
       "    </tr>\n",
       "    <tr>\n",
       "      <th>4</th>\n",
       "      <td>jenkins46</td>\n",
       "      <td>9346</td>\n",
       "      <td>Mary</td>\n",
       "      <td>Jenkins</td>\n",
       "    </tr>\n",
       "    <tr>\n",
       "      <th>5</th>\n",
       "      <td>smith79</td>\n",
       "      <td>5079</td>\n",
       "      <td>Jamie</td>\n",
       "      <td>Smith</td>\n",
       "    </tr>\n",
       "  </tbody>\n",
       "</table>\n",
       "</div>"
      ],
      "text/plain": [
       "    Username  Identifier Firstname Lastname\n",
       "1   booker12        9012    Rachel   Booker\n",
       "2     grey07        2070     Laura     Grey\n",
       "3  johnson81        4081     Craig  Johnson\n",
       "4  jenkins46        9346      Mary  Jenkins\n",
       "5    smith79        5079     Jamie    Smith"
      ]
     },
     "execution_count": 39,
     "metadata": {},
     "output_type": "execute_result"
    }
   ],
   "source": [
    "#7. Write a Python program to perform the following:\n",
    "#a) Input as csv File\n",
    "import pandas as pd\n",
    "import numpy as np\n",
    "import csv\n",
    "frame = pd.DataFrame([['booker12',9012,'Rachel','Booker'],\n",
    "                     ['grey07',2070,'Laura','Grey'],\n",
    "                     ['johnson81',4081,'Craig','Johnson'],\n",
    "                     ['jenkins46',9346,'Mary','Jenkins'],\n",
    "                     ['smith79',5079,'Jamie','Smith']],\n",
    "                     index=[1,2,3,4,5],\n",
    "                     columns=[ 'Username','Identifier','Firstname','Lastname'])\n",
    "frame"
   ]
  },
  {
   "cell_type": "code",
   "execution_count": 24,
   "id": "81da2c82",
   "metadata": {},
   "outputs": [
    {
     "name": "stdout",
     "output_type": "stream",
     "text": [
      "   Username   Identifier Firstname Lastname\n",
      "0   booker12        9012    Rachel   Booker\n",
      "1     grey07        2070     Laura     Grey\n",
      "2  johnson81        4081     Craig  Johnson\n",
      "3  jenkins46        9346      Mary  Jenkins\n",
      "4    smith79        5079     Jamie    Smith\n"
     ]
    }
   ],
   "source": [
    "#b)Reading a CSV File\n",
    "import pandas as pd\n",
    "\n",
    "df = pd.read_csv('data.csv')\n",
    "\n",
    "print(df.to_string()) "
   ]
  },
  {
   "cell_type": "code",
   "execution_count": 72,
   "id": "3a8d2dae",
   "metadata": {},
   "outputs": [
    {
     "name": "stdout",
     "output_type": "stream",
     "text": [
      "['jenkins46', '9346', 'Mary', 'Jenkins']\n",
      "['smith79', '5079', 'Jamie', 'Smith']\n"
     ]
    }
   ],
   "source": [
    "#c)Reading Specific Rows\n",
    "import csv\n",
    "\n",
    "with open('data.csv') as csv_file:\n",
    "    csv_reader = csv.reader(csv_file)\n",
    "    rows = list(csv_reader)\n",
    "\n",
    "    print(rows[4])\n",
    "    print(rows[5])"
   ]
  },
  {
   "cell_type": "code",
   "execution_count": 79,
   "id": "4f890cf3",
   "metadata": {},
   "outputs": [
    {
     "name": "stdout",
     "output_type": "stream",
     "text": [
      "  Firstname Lastname\n",
      "0    Rachel   Booker\n",
      "1     Laura     Grey\n",
      "2     Craig  Johnson\n",
      "3      Mary  Jenkins\n",
      "4     Jamie    Smith\n"
     ]
    }
   ],
   "source": [
    "#d)Read specific columns of csv file using Pandas\n",
    "df = pd.read_csv(\"data.csv\", usecols = ['Firstname','Lastname'])\n",
    "print(df)"
   ]
  },
  {
   "cell_type": "code",
   "execution_count": 80,
   "id": "3a20a72e",
   "metadata": {},
   "outputs": [
    {
     "name": "stdout",
     "output_type": "stream",
     "text": [
      "['johnson81', '4081', 'Craig', 'Johnson']\n",
      "['grey07', '2070', 'Laura', 'Grey']\n",
      "\n",
      "  Firstname\n",
      "0    Rachel\n",
      "1     Laura\n",
      "2     Craig\n",
      "3      Mary\n",
      "4     Jamie\n"
     ]
    }
   ],
   "source": [
    "#e)Reading Specific Columns and Rows\n",
    "print(rows[3])\n",
    "print(rows[2])\n",
    "print()\n",
    "df = pd.read_csv(\"data.csv\", usecols = ['Firstname'])\n",
    "print(df)"
   ]
  },
  {
   "cell_type": "code",
   "execution_count": 38,
   "id": "0a108b71",
   "metadata": {},
   "outputs": [
    {
     "name": "stdout",
     "output_type": "stream",
     "text": [
      "   Username   Identifier Firstname Lastname\n",
      "2  johnson81        4081     Craig  Johnson\n",
      "3  jenkins46        9346      Mary  Jenkins\n",
      "4    smith79        5079     Jamie    Smith\n"
     ]
    }
   ],
   "source": [
    "#f)Reading Specific Columns for a Range of Rows\n",
    "import pandas as pd\n",
    "data = pd.read_csv('data.csv')\n",
    "print (data.loc[2:6])"
   ]
  },
  {
   "cell_type": "code",
   "execution_count": 6,
   "id": "de213b60",
   "metadata": {},
   "outputs": [
    {
     "data": {
      "text/html": [
       "<div>\n",
       "<style scoped>\n",
       "    .dataframe tbody tr th:only-of-type {\n",
       "        vertical-align: middle;\n",
       "    }\n",
       "\n",
       "    .dataframe tbody tr th {\n",
       "        vertical-align: top;\n",
       "    }\n",
       "\n",
       "    .dataframe thead th {\n",
       "        text-align: right;\n",
       "    }\n",
       "</style>\n",
       "<table border=\"1\" class=\"dataframe\">\n",
       "  <thead>\n",
       "    <tr style=\"text-align: right;\">\n",
       "      <th></th>\n",
       "      <th>Username</th>\n",
       "      <th>Identifier</th>\n",
       "      <th>First name</th>\n",
       "      <th>Last name</th>\n",
       "    </tr>\n",
       "  </thead>\n",
       "  <tbody>\n",
       "    <tr>\n",
       "      <th>0</th>\n",
       "      <td>False</td>\n",
       "      <td>False</td>\n",
       "      <td>False</td>\n",
       "      <td>False</td>\n",
       "    </tr>\n",
       "    <tr>\n",
       "      <th>1</th>\n",
       "      <td>False</td>\n",
       "      <td>False</td>\n",
       "      <td>False</td>\n",
       "      <td>False</td>\n",
       "    </tr>\n",
       "    <tr>\n",
       "      <th>2</th>\n",
       "      <td>False</td>\n",
       "      <td>False</td>\n",
       "      <td>False</td>\n",
       "      <td>False</td>\n",
       "    </tr>\n",
       "    <tr>\n",
       "      <th>3</th>\n",
       "      <td>False</td>\n",
       "      <td>False</td>\n",
       "      <td>False</td>\n",
       "      <td>False</td>\n",
       "    </tr>\n",
       "    <tr>\n",
       "      <th>4</th>\n",
       "      <td>False</td>\n",
       "      <td>False</td>\n",
       "      <td>False</td>\n",
       "      <td>False</td>\n",
       "    </tr>\n",
       "  </tbody>\n",
       "</table>\n",
       "</div>"
      ],
      "text/plain": [
       "   Username   Identifier  First name  Last name\n",
       "0      False       False       False      False\n",
       "1      False       False       False      False\n",
       "2      False       False       False      False\n",
       "3      False       False       False      False\n",
       "4      False       False       False      False"
      ]
     },
     "execution_count": 6,
     "metadata": {},
     "output_type": "execute_result"
    }
   ],
   "source": [
    "#g)_Identify the missing data\n",
    "import pandas as pd\n",
    "\n",
    "df = pd.read_csv('data.csv')\n",
    "df.isnull()"
   ]
  },
  {
   "cell_type": "code",
   "execution_count": 81,
   "id": "2d0aa599",
   "metadata": {},
   "outputs": [
    {
     "data": {
      "text/html": [
       "<div>\n",
       "<style scoped>\n",
       "    .dataframe tbody tr th:only-of-type {\n",
       "        vertical-align: middle;\n",
       "    }\n",
       "\n",
       "    .dataframe tbody tr th {\n",
       "        vertical-align: top;\n",
       "    }\n",
       "\n",
       "    .dataframe thead th {\n",
       "        text-align: right;\n",
       "    }\n",
       "</style>\n",
       "<table border=\"1\" class=\"dataframe\">\n",
       "  <thead>\n",
       "    <tr style=\"text-align: right;\">\n",
       "      <th></th>\n",
       "      <th>Identifier</th>\n",
       "    </tr>\n",
       "  </thead>\n",
       "  <tbody>\n",
       "    <tr>\n",
       "      <th>count</th>\n",
       "      <td>5.000000</td>\n",
       "    </tr>\n",
       "    <tr>\n",
       "      <th>mean</th>\n",
       "      <td>5917.600000</td>\n",
       "    </tr>\n",
       "    <tr>\n",
       "      <th>std</th>\n",
       "      <td>3170.552523</td>\n",
       "    </tr>\n",
       "    <tr>\n",
       "      <th>min</th>\n",
       "      <td>2070.000000</td>\n",
       "    </tr>\n",
       "    <tr>\n",
       "      <th>25%</th>\n",
       "      <td>4081.000000</td>\n",
       "    </tr>\n",
       "    <tr>\n",
       "      <th>50%</th>\n",
       "      <td>5079.000000</td>\n",
       "    </tr>\n",
       "    <tr>\n",
       "      <th>75%</th>\n",
       "      <td>9012.000000</td>\n",
       "    </tr>\n",
       "    <tr>\n",
       "      <th>max</th>\n",
       "      <td>9346.000000</td>\n",
       "    </tr>\n",
       "  </tbody>\n",
       "</table>\n",
       "</div>"
      ],
      "text/plain": [
       "        Identifier\n",
       "count     5.000000\n",
       "mean   5917.600000\n",
       "std    3170.552523\n",
       "min    2070.000000\n",
       "25%    4081.000000\n",
       "50%    5079.000000\n",
       "75%    9012.000000\n",
       "max    9346.000000"
      ]
     },
     "execution_count": 81,
     "metadata": {},
     "output_type": "execute_result"
    }
   ],
   "source": [
    "#h) Identify the outlier data\n",
    "import pandas as pd\n",
    "import numpy as np \n",
    "import matplotlib.pyplot as plt\n",
    "\n",
    "# Reading the data\n",
    "df = pd.read_csv('data.csv')\n",
    "df.describe()"
   ]
  },
  {
   "cell_type": "code",
   "execution_count": 82,
   "id": "badb07a6",
   "metadata": {},
   "outputs": [
    {
     "name": "stdout",
     "output_type": "stream",
     "text": [
      "   Username   Identifier Firstname Lastname\n",
      "0   booker12        9012    Rachel   Booker\n",
      "1     grey07        2070     Laura     Grey\n",
      "2  johnson81        4081     Craig  Johnson\n",
      "3  jenkins46        9346      Mary  Jenkins\n",
      "4    smith79        5079     Jamie    Smith\n"
     ]
    }
   ],
   "source": [
    "#i)Replace with mean or mode\n",
    "import csv\n",
    "df = pd.read_csv('data.csv')\n",
    "\n",
    "df.dropna(inplace = True)\n",
    "\n",
    "print(df.to_string())"
   ]
  },
  {
   "cell_type": "code",
   "execution_count": 10,
   "id": "85043867",
   "metadata": {},
   "outputs": [
    {
     "name": "stdout",
     "output_type": "stream",
     "text": [
      "   Username   Identifier First name Last name\n",
      "0   booker12        9012     Rachel    Booker\n",
      "1     grey07        2070      Laura      Grey\n",
      "2  johnson81        4081      Craig   Johnson\n",
      "3  jenkins46        9346       Mary   Jenkins\n",
      "4    smith79        5079      Jamie     Smith\n"
     ]
    }
   ],
   "source": [
    "#j) Remove Blank Rows\n",
    "import pandas as pd\n",
    "\n",
    "df = pd.read_csv('data.csv')\n",
    "\n",
    "new_df = df.dropna()\n",
    "\n",
    "print(new_df.to_string())"
   ]
  },
  {
   "cell_type": "code",
   "execution_count": null,
   "id": "74970faa",
   "metadata": {},
   "outputs": [],
   "source": [
    "#k) Data Categories\n"
   ]
  },
  {
   "cell_type": "code",
   "execution_count": 83,
   "id": "01a4684d",
   "metadata": {},
   "outputs": [
    {
     "data": {
      "text/plain": [
       "Username      object\n",
       "Identifier     int64\n",
       "Firstname     object\n",
       "Lastname      object\n",
       "dtype: object"
      ]
     },
     "execution_count": 83,
     "metadata": {},
     "output_type": "execute_result"
    }
   ],
   "source": [
    "#l)Data types\n",
    "import csv\n",
    "df = pd.read_csv('data.csv')\n",
    "df.dtypes"
   ]
  },
  {
   "cell_type": "code",
   "execution_count": 2,
   "id": "c47beb56",
   "metadata": {},
   "outputs": [
    {
     "data": {
      "text/html": [
       "<div>\n",
       "<style scoped>\n",
       "    .dataframe tbody tr th:only-of-type {\n",
       "        vertical-align: middle;\n",
       "    }\n",
       "\n",
       "    .dataframe tbody tr th {\n",
       "        vertical-align: top;\n",
       "    }\n",
       "\n",
       "    .dataframe thead th {\n",
       "        text-align: right;\n",
       "    }\n",
       "</style>\n",
       "<table border=\"1\" class=\"dataframe\">\n",
       "  <thead>\n",
       "    <tr style=\"text-align: right;\">\n",
       "      <th></th>\n",
       "      <th>Username</th>\n",
       "      <th>Identifier</th>\n",
       "      <th>First name</th>\n",
       "      <th>Last name</th>\n",
       "    </tr>\n",
       "  </thead>\n",
       "  <tbody>\n",
       "    <tr>\n",
       "      <th>0</th>\n",
       "      <td>0.018370</td>\n",
       "      <td>0.764305</td>\n",
       "      <td>0.335296</td>\n",
       "      <td>0.227732</td>\n",
       "    </tr>\n",
       "    <tr>\n",
       "      <th>1</th>\n",
       "      <td>0.165262</td>\n",
       "      <td>0.446648</td>\n",
       "      <td>0.874789</td>\n",
       "      <td>0.743777</td>\n",
       "    </tr>\n",
       "    <tr>\n",
       "      <th>2</th>\n",
       "      <td>0.704994</td>\n",
       "      <td>0.342142</td>\n",
       "      <td>0.072783</td>\n",
       "      <td>0.849212</td>\n",
       "    </tr>\n",
       "    <tr>\n",
       "      <th>3</th>\n",
       "      <td>0.532922</td>\n",
       "      <td>0.479037</td>\n",
       "      <td>0.136867</td>\n",
       "      <td>0.259642</td>\n",
       "    </tr>\n",
       "    <tr>\n",
       "      <th>4</th>\n",
       "      <td>0.571650</td>\n",
       "      <td>0.140436</td>\n",
       "      <td>0.061185</td>\n",
       "      <td>0.674518</td>\n",
       "    </tr>\n",
       "  </tbody>\n",
       "</table>\n",
       "</div>"
      ],
      "text/plain": [
       "   Username  Identifier  First name  Last name\n",
       "0  0.018370    0.764305    0.335296   0.227732\n",
       "1  0.165262    0.446648    0.874789   0.743777\n",
       "2  0.704994    0.342142    0.072783   0.849212\n",
       "3  0.532922    0.479037    0.136867   0.259642\n",
       "4  0.571650    0.140436    0.061185   0.674518"
      ]
     },
     "execution_count": 2,
     "metadata": {},
     "output_type": "execute_result"
    }
   ],
   "source": [
    "#m)Analyze the data\n",
    "df.head()"
   ]
  },
  {
   "cell_type": "code",
   "execution_count": 49,
   "id": "2247cc7f",
   "metadata": {},
   "outputs": [
    {
     "data": {
      "text/plain": [
       "<AxesSubplot:>"
      ]
     },
     "execution_count": 49,
     "metadata": {},
     "output_type": "execute_result"
    },
    {
     "data": {
      "image/png": "[encoded data removed]",
      "text/plain": [
       "<Figure size 432x288 with 1 Axes>"
      ]
     },
     "metadata": {
      "needs_background": "light"
     },
     "output_type": "display_data"
    }
   ],
   "source": [
    "#n)Visualize the data\n",
    "\n",
    "import pandas as pd\n",
    "import numpy as np\n",
    "df = pd.DataFrame(np.random.rand(5,4), columns=['Username', 'Identifier','First name','Last name'])\n",
    "df.plot.box()"
   ]
  },
  {
   "cell_type": "code",
   "execution_count": 2,
   "id": "327cffee",
   "metadata": {},
   "outputs": [
    {
     "name": "stdout",
     "output_type": "stream",
     "text": [
      "            Identifier\n",
      "Identifier         1.0\n"
     ]
    }
   ],
   "source": [
    "#o)Find correlation among all attributes\n",
    "import csv\n",
    "df = pd.read_csv('data.csv')\n",
    "print(df.corr())\n"
   ]
  },
  {
   "cell_type": "code",
   "execution_count": null,
   "id": "5461b8bc",
   "metadata": {},
   "outputs": [],
   "source": []
  }
 ],
 "metadata": {
  "kernelspec": {
   "display_name": "Python 3 (ipykernel)",
   "language": "python",
   "name": "python3"
  },
  "language_info": {
   "codemirror_mode": {
    "name": "ipython",
    "version": 3
   },
   "file_extension": ".py",
   "mimetype": "text/x-python",
   "name": "python",
   "nbconvert_exporter": "python",
   "pygments_lexer": "ipython3",
   "version": "3.9.7"
  }
 },
 "nbformat": 4,
 "nbformat_minor": 5
}
