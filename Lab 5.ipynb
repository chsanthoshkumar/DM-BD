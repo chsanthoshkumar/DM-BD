{
 "cells": [
  {
   "cell_type": "code",
   "execution_count": 2,
   "id": "d9f0cb47",
   "metadata": {},
   "outputs": [
    {
     "name": "stdout",
     "output_type": "stream",
     "text": [
      "age [23 23 27 27 39 41 47 49 50 52 54 54 56 57 58 58 60 61]\n",
      "fat [ 9.5 26.5  7.8 17.8 31.4 25.9 27.4 27.2 31.2 34.6 42.5 28.8 33.4 30.2\n",
      " 34.1 32.9 41.2 35.7]\n",
      "0     23\n",
      "1     23\n",
      "2     27\n",
      "3     27\n",
      "4     39\n",
      "5     41\n",
      "6     47\n",
      "7     49\n",
      "8     50\n",
      "9     52\n",
      "10    54\n",
      "11    54\n",
      "12    56\n",
      "13    57\n",
      "14    58\n",
      "15    58\n",
      "16    60\n",
      "17    61\n",
      "dtype: int32\n",
      "0      9.5\n",
      "1     26.5\n",
      "2      7.8\n",
      "3     17.8\n",
      "4     31.4\n",
      "5     25.9\n",
      "6     27.4\n",
      "7     27.2\n",
      "8     31.2\n",
      "9     34.6\n",
      "10    42.5\n",
      "11    28.8\n",
      "12    33.4\n",
      "13    30.2\n",
      "14    34.1\n",
      "15    32.9\n",
      "16    41.2\n",
      "17    35.7\n",
      "dtype: float64\n"
     ]
    }
   ],
   "source": [
    "import math\n",
    "import statistics\n",
    "import numpy as np\n",
    "import scipy.stats\n",
    "import pandas as pd\n",
    "import matplotlib.pyplot as plt\n",
    "\n",
    "age=np.array(([23,23,27,27,39,41,47,49,50,52,54,54,56,57,58,58,60,61]))\n",
    "print(\"age\",age)\n",
    "fat=np.array(([9.5,26.5,7.8,17.8,31.4,25.9,27.4,27.2,31.2,34.6,42.5,28.8,33.4,30.2,34.1,32.9,41.2,35.7]))\n",
    "print(\"fat\",fat)\n",
    "d=pd.Series(age)\n",
    "print(d)\n",
    "f=pd.Series(fat)\n",
    "print(f)"
   ]
  },
  {
   "cell_type": "code",
   "execution_count": 27,
   "id": "c79c69c2",
   "metadata": {},
   "outputs": [
    {
     "name": "stdout",
     "output_type": "stream",
     "text": [
      " age mean: 46\n",
      " fat mean: 28.783333333333335\n"
     ]
    }
   ],
   "source": [
    "#Calculate the mean of age and %fat. \n",
    "mean_ = statistics.mean(age)\n",
    "print(\" age mean:\",mean_)\n",
    "mean_ = statistics.mean(fat)\n",
    "print(\" fat mean:\",mean_)"
   ]
  },
  {
   "cell_type": "code",
   "execution_count": 28,
   "id": "76f1627c",
   "metadata": {},
   "outputs": [
    {
     "name": "stdout",
     "output_type": "stream",
     "text": [
      " age median: 51.0\n",
      "fat median: 30.7\n"
     ]
    }
   ],
   "source": [
    "#Calculate the median of age and %fat. \n",
    "median_ = statistics.median(age)\n",
    "print(\"age median:\",median_)\n",
    "median_ = statistics.median(fat)\n",
    "print(\"fat median:\",median_)\n"
   ]
  },
  {
   "cell_type": "code",
   "execution_count": 29,
   "id": "c70b3799",
   "metadata": {},
   "outputs": [
    {
     "name": "stdout",
     "output_type": "stream",
     "text": [
      " age standard deviation= 12.846193652519204\n",
      " fat standard deviation= 8.993655170915401\n"
     ]
    }
   ],
   "source": [
    "#Calculate the standard deviation of age and %fat. \n",
    "std=np.std(age)\n",
    "print(\" age standard deviation=\",std)\n",
    "std=np.std(fat)\n",
    "print(\" fat standard deviation=\",std)"
   ]
  },
  {
   "cell_type": "code",
   "execution_count": 4,
   "id": "7e3ce451",
   "metadata": {},
   "outputs": [
    {
     "data": {
      "image/png": "[encoded data removed]",
      "text/plain": [
       "<Figure size 432x288 with 1 Axes>"
      ]
     },
     "metadata": {
      "needs_background": "light"
     },
     "output_type": "display_data"
    },
    {
     "data": {
      "image/png": "[encoded data removed]",
      "text/plain": [
       "<Figure size 432x288 with 1 Axes>"
      ]
     },
     "metadata": {
      "needs_background": "light"
     },
     "output_type": "display_data"
    }
   ],
   "source": [
    "\n",
    "\n",
    "#box plot for age \n",
    "plt.boxplot(age)\n",
    "plt.suptitle('box plot for age')\n",
    "plt.show()\n",
    "\n",
    "#boxplot for fat\n",
    "plt.boxplot(fat)\n",
    "plt.suptitle('box plot for fat')\n",
    "plt.show()\n",
    "\n",
    "\n"
   ]
  },
  {
   "cell_type": "code",
   "execution_count": 4,
   "id": "d2c6e026",
   "metadata": {},
   "outputs": [
    {
     "data": {
      "image/png": "[encoded data removed]",
      "text/plain": [
       "<Figure size 432x288 with 1 Axes>"
      ]
     },
     "metadata": {
      "needs_background": "light"
     },
     "output_type": "display_data"
    }
   ],
   "source": [
    "#Draw  a q-q plot based on these two variables.\n",
    "import numpy as np\n",
    "import statsmodels.api as sm\n",
    "import pylab as py\n",
    "import matplotlib.pyplot as plt\n",
    "plt.figure()\n",
    "plt.scatter(np.sort(age), np.sort(fat))\n",
    "plt.xlabel('age')\n",
    "plt.ylabel('fat')\n",
    "plt.title('q-q plot')\n",
    "plt.show()"
   ]
  },
  {
   "cell_type": "code",
   "execution_count": 32,
   "id": "bbbc13e4",
   "metadata": {
    "scrolled": true
   },
   "outputs": [
    {
     "data": {
      "image/png": "[encoded data removed]",
      "text/plain": [
       "<Figure size 432x288 with 1 Axes>"
      ]
     },
     "metadata": {
      "needs_background": "light"
     },
     "output_type": "display_data"
    }
   ],
   "source": [
    "##Draw a scatter plot based on these two variables.\n",
    "import matplotlib.pyplot as plt\n",
    "\n",
    "plt.scatter(age, fat)\n",
    "plt.xlabel('age')\n",
    "plt.ylabel('fat')\n",
    "plt.title('Scatter Plot')\n",
    "plt.show()\n",
    "\n"
   ]
  }
 ],
 "metadata": {
  "kernelspec": {
   "display_name": "Python 3 (ipykernel)",
   "language": "python",
   "name": "python3"
  },
  "language_info": {
   "codemirror_mode": {
    "name": "ipython",
    "version": 3
   },
   "file_extension": ".py",
   "mimetype": "text/x-python",
   "name": "python",
   "nbconvert_exporter": "python",
   "pygments_lexer": "ipython3",
   "version": "3.9.7"
  }
 },
 "nbformat": 4,
 "nbformat_minor": 5
}
