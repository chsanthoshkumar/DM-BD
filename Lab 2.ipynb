{
 "cells": [
  {
   "cell_type": "code",
   "execution_count": 12,
   "id": "40f2fbd9",
   "metadata": {},
   "outputs": [
    {
     "name": "stdout",
     "output_type": "stream",
     "text": [
      "[[1 2 3]\n",
      " [2 3 4]\n",
      " [3 4 5]]\n",
      " shape and dimension of array a:\n",
      "shape: (3, 3)\n",
      "dimension: 2\n"
     ]
    }
   ],
   "source": [
    "#Create multi-dimensional arrays and find its shape and dimension \n",
    "import numpy as np\n",
    "#Creation multi-dimensional arrays\n",
    "a=np.array([[1,2,3],[2,3,4],[3,4,5]])\n",
    "print(a)\n",
    "print(\" shape and dimension of array a:\")\n",
    "print(\"shape:\",a.shape)\n",
    "print(\"dimension:\",a.ndim)\n"
   ]
  },
  {
   "cell_type": "code",
   "execution_count": 13,
   "id": "8170c22b",
   "metadata": {},
   "outputs": [
    {
     "name": "stdout",
     "output_type": "stream",
     "text": [
      "zeros: [[0. 0.]\n",
      " [0. 0.]]\n",
      "ones: [[1. 1.]\n",
      " [1. 1.]]\n"
     ]
    }
   ],
   "source": [
    "#Create a matrix full of zeros and ones\n",
    "z=np.zeros((2,2))\n",
    "print(\"zeros:\",z)\n",
    "\n",
    "o=np.ones((2,2))\n",
    "print(\"ones:\",o)\n"
   ]
  },
  {
   "cell_type": "code",
   "execution_count": 14,
   "id": "12ac8044",
   "metadata": {},
   "outputs": [
    {
     "name": "stdout",
     "output_type": "stream",
     "text": [
      "reshape: [[[1 2]\n",
      "  [3 4]]\n",
      "\n",
      " [[2 3]\n",
      "  [4 5]]\n",
      "\n",
      " [[3 4]\n",
      "  [5 6]]\n",
      "\n",
      " [[4 5]\n",
      "  [6 7]]]\n",
      "flatten: [1 2 3 4 2 3 4 5 3 4 5 6 4 5 6 7]\n"
     ]
    }
   ],
   "source": [
    "a=np.array([[1,2,3,4],[2,3,4,5],[3,4,5,6],[4,5,6,7]])\n",
    "b=a.reshape(4,2,2)\n",
    "print(\"reshape:\",b)\n",
    "\n",
    "c=a.flatten()\n",
    "print(\"flatten:\",c)"
   ]
  },
  {
   "cell_type": "code",
   "execution_count": 15,
   "id": "3a1fd4fd",
   "metadata": {},
   "outputs": [
    {
     "name": "stdout",
     "output_type": "stream",
     "text": [
      "vertically: [[10 20]\n",
      " [80 90]\n",
      " [30 40]\n",
      " [60 70]]\n",
      "horizontally: [[10 20 30 40]\n",
      " [80 90 60 70]]\n"
     ]
    }
   ],
   "source": [
    "x=np.array([[10,20],[80,90]])\n",
    "y=np.array([[30,40],[60,70]])\n",
    "v=np.vstack((x,y))\n",
    "print (\"vertically:\",v)\n",
    "\n",
    "h=np.hstack((x,y))\n",
    "print(\"horizontally:\",h)"
   ]
  },
  {
   "cell_type": "code",
   "execution_count": 16,
   "id": "ec49aeef",
   "metadata": {},
   "outputs": [
    {
     "name": "stdout",
     "output_type": "stream",
     "text": [
      "indexing [2 3 4 5]\n",
      "slicing: [[2 4]\n",
      " [3 5]\n",
      " [4 6]\n",
      " [5 7]]\n"
     ]
    }
   ],
   "source": [
    "#Apply indexing and slicing on array\n",
    "\n",
    "#indexing\n",
    "a=np.array([[1,2,3,4],[2,3,4,5],[3,4,5,6],[4,5,6,7]])\n",
    "temp = a[[0,1,2,3],[1,1,1,1]]\n",
    "print(\"indexing\",temp)\n",
    "\n",
    "#slicing\n",
    "i=a[:4,1::2]\n",
    "print(\"slicing:\",i)\n"
   ]
  },
  {
   "cell_type": "raw",
   "id": "9f8eb324",
   "metadata": {},
   "source": [
    "a=np.array([[1,3,-1,4],[3,-2,1,4]])\n",
    "b=a.min()\n",
    "print(\"minimum:\",b)\n",
    "c=a.max()\n",
    "print(\"maximum:\",c)\n",
    "\n",
    "#mean\n",
    "x=np.array([1,2,3,4,5])\n",
    "d= x.mean\n",
    "print(\"mean:\",d)\n",
    "\n",
    "#median\n",
    "e=np.median(x)\n",
    "print(\"median:\",e)\n",
    "\n",
    "#standard deviation\n",
    "f=x.std()\n",
    "print(\"standard deviation:\",f)"
   ]
  },
  {
   "cell_type": "code",
   "execution_count": null,
   "id": "99b5f816",
   "metadata": {},
   "outputs": [],
   "source": []
  }
 ],
 "metadata": {
  "kernelspec": {
   "display_name": "Python 3 (ipykernel)",
   "language": "python",
   "name": "python3"
  },
  "language_info": {
   "codemirror_mode": {
    "name": "ipython",
    "version": 3
   },
   "file_extension": ".py",
   "mimetype": "text/x-python",
   "name": "python",
   "nbconvert_exporter": "python",
   "pygments_lexer": "ipython3",
   "version": "3.9.7"
  }
 },
 "nbformat": 4,
 "nbformat_minor": 5
}
