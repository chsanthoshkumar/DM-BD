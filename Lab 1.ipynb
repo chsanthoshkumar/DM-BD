{
 "cells": [
  {
   "cell_type": "code",
   "execution_count": 9,
   "id": "bc0a7937",
   "metadata": {},
   "outputs": [
    {
     "name": "stdout",
     "output_type": "stream",
     "text": [
      "[0. 0. 0. 0. 0. 0. 0. 0. 0. 0.]\n"
     ]
    }
   ],
   "source": [
    "import numpy as np\n",
    "# 1-D array called zeros having 10 elements and all the elements are set to zero. \n",
    "zeros = np.zeros((10,))\n",
    "print (zeros)\n"
   ]
  },
  {
   "cell_type": "code",
   "execution_count": 11,
   "id": "bd6eeaf8",
   "metadata": {},
   "outputs": [
    {
     "name": "stdout",
     "output_type": "stream",
     "text": [
      "['a' 'e' 'i' 'o' 'u']\n"
     ]
    }
   ],
   "source": [
    "#1-D array called vowels having the elements ‘a’, ‘e’, ‘i’, ‘o’ and ‘u’. \n",
    "vowels = np.array(list('aeiou'))\n",
    "print (vowels)"
   ]
  },
  {
   "cell_type": "code",
   "execution_count": 10,
   "id": "14da92db",
   "metadata": {},
   "outputs": [
    {
     "name": "stdout",
     "output_type": "stream",
     "text": [
      "[[1 1 1 1 1]\n",
      " [1 1 1 1 1]]\n"
     ]
    }
   ],
   "source": [
    "#2-D array called ones having 2 rows and 5 columns and all the elements are set to 1 and dtype as int. \n",
    "ones =np.ones ((2,5),dtype=int)\n",
    "print(ones )"
   ]
  },
  {
   "cell_type": "code",
   "execution_count": 11,
   "id": "13b2e307",
   "metadata": {},
   "outputs": [
    {
     "name": "stdout",
     "output_type": "stream",
     "text": [
      "[[  2.7  -2.  -19. ]\n",
      " [  0.    3.4  99.9]\n",
      " [ 10.6   0.   13. ]]\n"
     ]
    }
   ],
   "source": [
    "#create a 2-D array called myarray1 having 3 rows and 3 columns and store the following data: \n",
    "myarray1  =np.array([[2.7,  -2,  -19],[0,  3.4,  99.9],[10.6,  0,  13]])\n",
    "print (myarray1)"
   ]
  },
  {
   "cell_type": "code",
   "execution_count": 12,
   "id": "c6eaafee",
   "metadata": {},
   "outputs": [
    {
     "name": "stdout",
     "output_type": "stream",
     "text": [
      "[[ 4.  8. 12. 16. 20.]\n",
      " [24. 28. 32. 36. 40.]\n",
      " [44. 48. 52. 56. 60.]]\n"
     ]
    }
   ],
   "source": [
    "# myarray2 using arange() having 3 rows and 5 columns with start value = 4,step size 4 and dtype as float.\n",
    "myarray2 =np.arange(4,61,4,float).reshape(3,5)\n",
    "print(myarray2)\n"
   ]
  },
  {
   "cell_type": "code",
   "execution_count": 13,
   "id": "aa9e632e",
   "metadata": {},
   "outputs": [
    {
     "name": "stdout",
     "output_type": "stream",
     "text": [
      "zeros array dimension,shape,size,datatype,itemsize: 1 , (10,) , 10 , float64 , 8\n",
      "vowels array dimension,shape,size,datatype,itemsize: 1 , (5,) , 5 , <U1 , 4\n",
      "ones array dimension,shape,size,datatype,itemsize: 2 , (2, 5) , 10 , int32 , 4\n",
      "myarray1 array dimension,shape,size,datatype,itemsize: 2 , (3, 3) , 9 , float64 , 8\n",
      "myarray2 array dimension,shape,size,datatype,itemsize: 2 , (3, 5) , 15 , float64 , 8\n"
     ]
    }
   ],
   "source": [
    "#Find the dimensions, shape, size, data type of the items and itemsize of arrays zeros, vowels,ones, myarray1 and myarray2. \n",
    "print(\"zeros array dimension,shape,size,datatype,itemsize:\",zeros.ndim,\",\",zeros.shape,\",\",zeros.size,\",\",zeros.dtype,\",\",zeros.itemsize)\n",
    "print(\"vowels array dimension,shape,size,datatype,itemsize:\",vowels.ndim,\",\",vowels.shape,\",\",vowels.size,\",\",vowels.dtype,\",\",vowels.itemsize)\n",
    "print(\"ones array dimension,shape,size,datatype,itemsize:\",ones.ndim,\",\",ones.shape,\",\",ones.size,\",\",ones.dtype,\",\",ones.itemsize)\n",
    "print(\"myarray1 array dimension,shape,size,datatype,itemsize:\",myarray1.ndim,\",\",myarray1.shape,\",\",myarray1.size,\",\",myarray1.dtype,\",\",myarray1.itemsize)\n",
    "print(\"myarray2 array dimension,shape,size,datatype,itemsize:\",myarray2.ndim,\",\",myarray2.shape,\",\",myarray2.size,\",\",myarray2.dtype,\",\",myarray2.itemsize)\n"
   ]
  },
  {
   "cell_type": "code",
   "execution_count": 14,
   "id": "8890bde3",
   "metadata": {},
   "outputs": [
    {
     "name": "stdout",
     "output_type": "stream",
     "text": [
      "Reshape of ones array into single line [1 1 1 1 1 1 1 1 1 1]\n",
      "2nd and 3rd element of the array vowels: ['i' 'o']\n",
      "all elements in the 2nd and 3rd row of the array myarray1: [ 0.   3.4 99.9] [10.6  0.  13. ]\n",
      "the elements in the 1st and 2nd column of the array myarray1: [ 2.7 -2. ] [0.  3.4] [10.6  0. ]\n",
      "the elements in the 1st column of the 2nd and 3rd row of the array myarray1: 0.0 10.6\n",
      "Reverse of vowels array: ['u' 'o' 'i' 'e' 'a']\n"
     ]
    }
   ],
   "source": [
    "#Reshape the array ones to have all the 10 elements in a single row.\n",
    "print(\"Reshape of ones array into single line\",ones.reshape(10,))\n",
    "\n",
    "#2nd and 3rd element of the array vowels\n",
    "print(\"2nd and 3rd element of the array vowels:\",vowels[2:4])\n",
    "\n",
    "#all elements in the 2nd and 3rd row of the array myarray1:\n",
    "print(\"all elements in the 2nd and 3rd row of the array myarray1:\",myarray1[1,0:],myarray1[2,0:])\n",
    "\n",
    "#the elements in the 1st and 2nd column of the array myarray1:\n",
    "print(\"the elements in the 1st and 2nd column of the array myarray1:\",myarray1[0,0:2],myarray1[1,0:2],myarray1[2,0:2])\n",
    "\n",
    "#the elements in the 1st column of the 2nd and 3rd row of the array myarray1\n",
    "print(\"the elements in the 1st column of the 2nd and 3rd row of the array myarray1:\",myarray1[1,0],myarray1[2,0])\n",
    "\n",
    "#Reverse of vowels array\n",
    "print(\"Reverse of vowels array:\",vowels[::-1])"
   ]
  },
  {
   "cell_type": "code",
   "execution_count": 15,
   "id": "c19a9095",
   "metadata": {},
   "outputs": [
    {
     "name": "stdout",
     "output_type": "stream",
     "text": [
      "Divide all elements of array ones by 3: [[0.33333333 0.33333333 0.33333333 0.33333333 0.33333333]\n",
      " [0.33333333 0.33333333 0.33333333 0.33333333 0.33333333]]\n"
     ]
    }
   ],
   "source": [
    "print(\"Divide all elements of array ones by 3:\",ones/3)"
   ]
  },
  {
   "cell_type": "code",
   "execution_count": 19,
   "id": "ba5489be",
   "metadata": {},
   "outputs": [
    {
     "data": {
      "text/plain": [
       "array([[  6.7,   6. ,  -7. ],\n",
       "       [ 16. ,  23.4, 123.9],\n",
       "       [ 38.6,  32. ,  49. ]])"
      ]
     },
     "execution_count": 19,
     "metadata": {},
     "output_type": "execute_result"
    }
   ],
   "source": [
    "# Add the arrays myarray1 and myarray2.\n",
    "myarray1 = np.array([[2.7,-2,-19],[0,3.4,99.9],[10.6,0,13]])\n",
    "myarray2 = np.arange(4,45,4,dtype=float)\n",
    "myarray2.resize(3,3)\n",
    "myarray1 + myarray2"
   ]
  },
  {
   "cell_type": "code",
   "execution_count": 20,
   "id": "d0e57ab3",
   "metadata": {},
   "outputs": [
    {
     "data": {
      "text/plain": [
       "array([[  1.3,  10. ,  31. ],\n",
       "       [ 16. ,  16.6, -75.9],\n",
       "       [ 17.4,  32. ,  23. ]])"
      ]
     },
     "execution_count": 20,
     "metadata": {},
     "output_type": "execute_result"
    }
   ],
   "source": [
    " #Subtract myarray1 from myarray2 and store the result in a new array\n",
    "myarray1 = np.array([[2.7,-2,-19],[0,3.4,99.9],[10.6,0,13]])\n",
    "myarray2 = np.arange(4,45,4,dtype=float)\n",
    "myarray2.resize(3,3)\n",
    "myarray2-myarray1"
   ]
  },
  {
   "cell_type": "code",
   "execution_count": 21,
   "id": "943b9b0f",
   "metadata": {},
   "outputs": [
    {
     "data": {
      "text/plain": [
       "array([[  10.8,  -16. , -228. ],\n",
       "       [   0. ,   68. , 2397.6],\n",
       "       [ 296.8,    0. ,  468. ]])"
      ]
     },
     "execution_count": 21,
     "metadata": {},
     "output_type": "execute_result"
    }
   ],
   "source": [
    "#Multiply myarray1 and myarray2 element wise. \n",
    "myarray1 = np.array([[2.7,-2,-19],[0,3.4,99.9],[10.6,0,13]])\n",
    "myarray2 = np.arange(4,45,4,dtype=float)\n",
    "myarray2.resize(3,3)\n",
    "myarray2 * myarray1"
   ]
  },
  {
   "cell_type": "code",
   "execution_count": 22,
   "id": "6fdce3d6",
   "metadata": {},
   "outputs": [
    {
     "data": {
      "text/plain": [
       "array([[ 138. ,   19.2,  879.2],\n",
       "       [ 297.6,   36. , 2006. ],\n",
       "       [ 457.2,   52.8, 3132.8]])"
      ]
     },
     "execution_count": 22,
     "metadata": {},
     "output_type": "execute_result"
    }
   ],
   "source": [
    "#Do the matrix multiplication of myarray1 and myarray2 and store the result in a new array myarray3. \n",
    "myarray1 = np.array([[2.7,-2,-19],[0,3.4,99.9],[10.6,0,13]])\n",
    "myarray2 = np.arange(4,45,4,dtype=float)\n",
    "myarray2.resize(3,3)\n",
    "myarray3 = myarray2 @ myarray1\n",
    "myarray3"
   ]
  },
  {
   "cell_type": "code",
   "execution_count": 23,
   "id": "067027d9",
   "metadata": {},
   "outputs": [
    {
     "data": {
      "text/plain": [
       "array([[ 0.675     , -0.25      , -1.58333333],\n",
       "       [ 0.        ,  0.17      ,  4.1625    ],\n",
       "       [ 0.37857143,  0.        ,  0.36111111]])"
      ]
     },
     "execution_count": 23,
     "metadata": {},
     "output_type": "execute_result"
    }
   ],
   "source": [
    "#Divide myarray1 by myarray2. \n",
    "myarray1 = np.array([[2.7,-2,-19],[0,3.4,99.9],[10.6,0,13]])\n",
    "myarray2 = np.arange(4,45,4,dtype=float)\n",
    "myarray2.resize(3,3)\n",
    "myarray1 / myarray2"
   ]
  },
  {
   "cell_type": "code",
   "execution_count": 24,
   "id": "dd3817d7",
   "metadata": {},
   "outputs": [
    {
     "data": {
      "text/plain": [
       "array([[ 9.841500e+00, -4.000000e+00, -3.429500e+03],\n",
       "       [ 0.000000e+00,  1.965200e+01,  4.985015e+05],\n",
       "       [ 5.955080e+02,  0.000000e+00,  1.098500e+03]])"
      ]
     },
     "execution_count": 24,
     "metadata": {},
     "output_type": "execute_result"
    }
   ],
   "source": [
    "#Find the cube of all elements of myarray1 and divide the resulting array by 2.\n",
    "myarray1 = np.array([[2.7,-2,-19],[0,3.4,99.9],[10.6,0,13]])\n",
    "myarraycube = myarray1 ** 3\n",
    "myarraycube/2"
   ]
  },
  {
   "cell_type": "code",
   "execution_count": 25,
   "id": "96c719db",
   "metadata": {},
   "outputs": [
    {
     "data": {
      "text/plain": [
       "array([[1.  , 1.41, 1.73],\n",
       "       [2.  , 2.24, 2.45],\n",
       "       [2.65, 2.83, 3.  ]])"
      ]
     },
     "execution_count": 25,
     "metadata": {},
     "output_type": "execute_result"
    }
   ],
   "source": [
    "#Find the square root of all elements of myarray2 and divide the resulting array by 2. The result should be rounded to two places of decimals.\n",
    "myarray2 = np.arange(4,45,4,dtype=float)\n",
    "myarray2.resize(3,3)\n",
    "arraysqrt = np.sqrt(myarray2)\n",
    "newarraysqrt = arraysqrt/2\n",
    "np.around(newarraysqrt,2)"
   ]
  },
  {
   "cell_type": "code",
   "execution_count": 31,
   "id": "b6acc675",
   "metadata": {},
   "outputs": [
    {
     "name": "stdout",
     "output_type": "stream",
     "text": [
      "transpose of ones:\n",
      "[[1 1]\n",
      " [1 1]\n",
      " [1 1]\n",
      " [1 1]\n",
      " [1 1]]\n",
      "transpose of myarray2:\n",
      "[[ 4. 16. 28.]\n",
      " [ 8. 20. 32.]\n",
      " [12. 24. 36.]]\n"
     ]
    },
    {
     "data": {
      "text/plain": [
       "array(['u', 'o', 'i', 'e', 'a'], dtype='<U1')"
      ]
     },
     "execution_count": 31,
     "metadata": {},
     "output_type": "execute_result"
    }
   ],
   "source": [
    "#Find the transpose of ones\n",
    "ones = np.ones((2,5),dtype=int)\n",
    "print(\"transpose of ones:\")\n",
    "print(ones.transpose())\n",
    "\n",
    "#Find the transpose of myarray2.\n",
    "myarray2 = np.arange(4,45,4,dtype=float)\n",
    "myarray2.resize(3,3)\n",
    "print(\"transpose of myarray2:\")\n",
    "print(myarray2.transpose())\n",
    "\n",
    "#Sort the array vowels in reverse. \n",
    "vowels = np.array(['a','e','i','o','u'])\n",
    "vowels[ : : -1]"
   ]
  },
  {
   "cell_type": "code",
   "execution_count": 6,
   "id": "bae48c70",
   "metadata": {},
   "outputs": [
    {
     "name": "stdout",
     "output_type": "stream",
     "text": [
      "[[-19.   -2.    2.7]\n",
      " [  0.    3.4  99.9]\n",
      " [  0.   10.6  13. ]]\n",
      "[[ 4.  8. 12.]] [[16. 20. 24.]\n",
      " [28. 32. 36.]] []\n",
      "[0 0] [0 0 0] [0 0] [0]\n"
     ]
    }
   ],
   "source": [
    "#Sort the array myarray1 such that it brings the lowest value of the column in the first row and so on.\n",
    "myarray1 = np.array([[2.7,-2,-19],[0,3.4,99.9],[10.6,0,13]])\n",
    "myarray1.sort()\n",
    "print(myarray1)\n",
    "\n",
    "\n",
    "#Use NumPy. split() to split the array myarray2 into 5 arrays column wise. Store your resulting arrays in myarray2A, myarray2B, myarray2C, myarray2D and myarray2E. Print the arrays myarray2A, myarray2B, myarray2C, myarray2D and myarray2E\n",
    "myarray2 = np.arange(4,45,4,dtype=float)\n",
    "myarray2.resize(3,3)\n",
    "myarray2A, myarray2B, myarray2C = np.split(myarray2,[1,3])\n",
    "print(myarray2A, myarray2B, myarray2C)\n",
    "\n",
    "# t) Split the array zeros at array index 2, 5, 7, 8 and store the resulting arrays in zerosA, zerosB, zerosC and zerosD and print them.\n",
    "zeros = np.zeros(10,dtype=int)\n",
    "zerosnew = np.split(zeros,[2,5,7,8])\n",
    "zerosA = zerosnew[0]\n",
    "zerosB = zerosnew[1]\n",
    "zerosC = zerosnew[2]\n",
    "zerosD = zerosnew[3]\n",
    "print(zerosA, zerosB, zerosC ,zerosD)"
   ]
  },
  {
   "cell_type": "code",
   "execution_count": 34,
   "id": "9d6b480e",
   "metadata": {},
   "outputs": [
    {
     "data": {
      "text/plain": [
       "array([[ 4.,  8., 12.],\n",
       "       [16., 20., 24.],\n",
       "       [28., 32., 36.]])"
      ]
     },
     "execution_count": 34,
     "metadata": {},
     "output_type": "execute_result"
    }
   ],
   "source": [
    "#Concatenate the arrays myarray2A, myarray2B and myarray2C into an array having 3 rows and 3 columns\n",
    "myarray2 = np.arange(4,45,4,dtype=float)\n",
    "myarray2.resize(3,3)\n",
    "myarray2A, myarray2B, myarray2C = np.split(myarray2,[1,3])\n",
    "np.concatenate((myarray2A, myarray2B, myarray2C),axis=0)"
   ]
  },
  {
   "cell_type": "code",
   "execution_count": 35,
   "id": "5688af1a",
   "metadata": {},
   "outputs": [
    {
     "data": {
      "text/plain": [
       "[array([[-1.  ],\n",
       "        [-0.25],\n",
       "        [ 0.5 ],\n",
       "        [ 1.25],\n",
       "        [ 2.  ],\n",
       "        [ 2.75],\n",
       "        [ 3.5 ],\n",
       "        [ 4.25],\n",
       "        [ 5.  ],\n",
       "        [ 5.75],\n",
       "        [ 6.5 ],\n",
       "        [ 7.25],\n",
       "        [ 8.  ],\n",
       "        [ 8.75]]),\n",
       " array([[-0.75],\n",
       "        [ 0.  ],\n",
       "        [ 0.75],\n",
       "        [ 1.5 ],\n",
       "        [ 2.25],\n",
       "        [ 3.  ],\n",
       "        [ 3.75],\n",
       "        [ 4.5 ],\n",
       "        [ 5.25],\n",
       "        [ 6.  ],\n",
       "        [ 6.75],\n",
       "        [ 7.5 ],\n",
       "        [ 8.25],\n",
       "        [ 9.  ]]),\n",
       " array([[-0.5 ],\n",
       "        [ 0.25],\n",
       "        [ 1.  ],\n",
       "        [ 1.75],\n",
       "        [ 2.5 ],\n",
       "        [ 3.25],\n",
       "        [ 4.  ],\n",
       "        [ 4.75],\n",
       "        [ 5.5 ],\n",
       "        [ 6.25],\n",
       "        [ 7.  ],\n",
       "        [ 7.75],\n",
       "        [ 8.5 ],\n",
       "        [ 9.25]])]"
      ]
     },
     "execution_count": 35,
     "metadata": {},
     "output_type": "execute_result"
    }
   ],
   "source": [
    "#  Create a 2-D array called myarray4 using arange() having 14 rows and 3 columns with start value = -1, step size 0.25 having. Split this array row wise into 3 equal parts and print the result.\n",
    "\n",
    "myarray4 = np.arange(-1,45,0.25,dtype=float)\n",
    "myarray4.resize(14,3)\n",
    "np.split(myarray4,3,axis=1)"
   ]
  },
  {
   "cell_type": "code",
   "execution_count": 40,
   "id": "acca0721",
   "metadata": {},
   "outputs": [
    {
     "name": "stdout",
     "output_type": "stream",
     "text": [
      "the sum of all elements:\n",
      "173.25\n",
      "the sum of all elements row wise:\n",
      "[-2.25  0.    2.25  4.5   6.75  9.   11.25 13.5  15.75 18.   20.25 22.5\n",
      " 24.75 27.  ]\n",
      "the sum of all elements column wise:\n",
      "[54.25 57.75 61.25]\n",
      "the max of all elements:\n",
      "the min of all the elements in each row:\n",
      "the mean of all elements in each row:\n",
      "the standard deviation column wise:\n"
     ]
    },
    {
     "data": {
      "text/plain": [
       "array([3.02334666, 3.02334666, 3.02334666])"
      ]
     },
     "execution_count": 40,
     "metadata": {},
     "output_type": "execute_result"
    }
   ],
   "source": [
    "# i. Find the sum of all elements. \n",
    "myarray4 = np.arange(-1,45,0.25,dtype=float)\n",
    "myarray4.resize(14,3)\n",
    "print(\"the sum of all elements:\")\n",
    "print(myarray4.sum())\n",
    "\n",
    "# ii. Find the sum of all elements row wise.\n",
    "myarray4 = np.arange(-1,45,0.25,dtype=float)\n",
    "myarray4.resize(14,3)\n",
    "print(\"the sum of all elements row wise:\")\n",
    "print(myarray4.sum(axis=1))\n",
    "\n",
    "# iii. Find the sum of all elements column wise. \n",
    "myarray4 = np.arange(-1,45,0.25,dtype=float)\n",
    "myarray4.resize(14,3)\n",
    "print(\"the sum of all elements column wise:\")\n",
    "print(myarray4.sum(axis=0))\n",
    "\n",
    "\n",
    "# iv. Find the max of all elements. \n",
    "myarray4 = np.arange(-1,45,0.25,dtype=float)\n",
    "myarray4.resize(14,3)\n",
    "print(\"the max of all elements:\")\n",
    "myarray4.max()\n",
    "\n",
    "# v. Find the min of all elements in each row.\n",
    "myarray4 = np.arange(-1,45,0.25,dtype=float)\n",
    "myarray4.resize(14,3)\n",
    "print(\"the min of all the elements in each row:\")\n",
    "myarray4.max(axis=1)\n",
    "\n",
    "# vi. Find the mean of all elements in each row. \n",
    "myarray4 = np.arange(-1,45,0.25,dtype=float)\n",
    "myarray4.resize(14,3)\n",
    "print(\"the mean of all elements in each row:\")\n",
    "myarray4.mean(axis=1)\n",
    "\n",
    "# vii. Find the standard deviation column wise.\n",
    "myarray4 = np.arange(-1,45,0.25,dtype=float)\n",
    "myarray4.resize(14,3)\n",
    "print(\"the standard deviation column wise:\")\n",
    "myarray4.std(axis=0)"
   ]
  }
 ],
 "metadata": {
  "kernelspec": {
   "display_name": "Python 3 (ipykernel)",
   "language": "python",
   "name": "python3"
  },
  "language_info": {
   "codemirror_mode": {
    "name": "ipython",
    "version": 3
   },
   "file_extension": ".py",
   "mimetype": "text/x-python",
   "name": "python",
   "nbconvert_exporter": "python",
   "pygments_lexer": "ipython3",
   "version": "3.9.7"
  }
 },
 "nbformat": 4,
 "nbformat_minor": 5
}
