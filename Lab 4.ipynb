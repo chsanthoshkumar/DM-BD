{
 "cells": [
  {
   "cell_type": "code",
   "execution_count": 2,
   "id": "13592aef",
   "metadata": {},
   "outputs": [
    {
     "name": "stdout",
     "output_type": "stream",
     "text": [
      "[13 15 16 16 19 20 20 21 22 22 25 25 25 25 30 33 33 35 35 35 35 36 40 45\n",
      " 46 52 70]\n",
      "0     13\n",
      "1     15\n",
      "2     16\n",
      "3     16\n",
      "4     19\n",
      "5     20\n",
      "6     20\n",
      "7     21\n",
      "8     22\n",
      "9     22\n",
      "10    25\n",
      "11    25\n",
      "12    25\n",
      "13    25\n",
      "14    30\n",
      "15    33\n",
      "16    33\n",
      "17    35\n",
      "18    35\n",
      "19    35\n",
      "20    35\n",
      "21    36\n",
      "22    40\n",
      "23    45\n",
      "24    46\n",
      "25    52\n",
      "26    70\n",
      "dtype: int32\n"
     ]
    }
   ],
   "source": [
    "import math\n",
    "import statistics\n",
    "import numpy as np\n",
    "import scipy.stats\n",
    "import pandas as pd\n",
    "import matplotlib.pyplot as plt\n",
    "\n",
    "age = np.array([ 13, 15, 16, 16, 19, 20, 20, 21, 22, 22, 25, 25, 25, 25, 30, 33, 33, 35, 35,\n",
    "35, 35, 36, 40, 45, 46, 52, 70])\n",
    "\n",
    "print(age)\n",
    "\n",
    "data = pd.Series(age)\n",
    "print(data)"
   ]
  },
  {
   "cell_type": "code",
   "execution_count": 7,
   "id": "1e3b52b5",
   "metadata": {},
   "outputs": [
    {
     "name": "stdout",
     "output_type": "stream",
     "text": [
      "29.962962962962962\n",
      "29.962962962962962\n",
      "29.962962962962962\n",
      "29.962962962962962\n"
     ]
    }
   ],
   "source": [
    "mean = statistics.mean(data)\n",
    "print(mean)\n",
    "\n",
    "meann = sum(data)/len(data)\n",
    "print(meann)\n",
    "\n",
    "mean__ = np.nanmean(data)\n",
    "print(mean__)\n",
    "\n",
    "print(data.mean())\n"
   ]
  },
  {
   "cell_type": "code",
   "execution_count": 10,
   "id": "d3203161",
   "metadata": {},
   "outputs": [
    {
     "name": "stdout",
     "output_type": "stream",
     "text": [
      "25\n"
     ]
    }
   ],
   "source": [
    "median_ = statistics.median(data)\n",
    "print(median_)"
   ]
  },
  {
   "cell_type": "code",
   "execution_count": 11,
   "id": "383d51ff",
   "metadata": {},
   "outputs": [
    {
     "name": "stdout",
     "output_type": "stream",
     "text": [
      "[25, 35]\n"
     ]
    }
   ],
   "source": [
    "mode_ = statistics.multimode(data)\n",
    "print(mode_)"
   ]
  },
  {
   "cell_type": "code",
   "execution_count": 12,
   "id": "b7cff58b",
   "metadata": {},
   "outputs": [
    {
     "name": "stdout",
     "output_type": "stream",
     "text": [
      "[20.5, 25.0, 35.0]\n",
      "Q1= 20.5\n",
      "Q3= 35.0\n"
     ]
    }
   ],
   "source": [
    "#Quantiles\n",
    "\n",
    "quantiles = statistics.quantiles(data, n=4, method='inclusive')\n",
    "print(quantiles)\n",
    "print(\"Q1=\",quantiles[0])\n",
    "print(\"Q3=\",quantiles[2])"
   ]
  },
  {
   "cell_type": "code",
   "execution_count": 3,
   "id": "d1561ba9",
   "metadata": {},
   "outputs": [
    {
     "data": {
      "image/png": "[encoded data removed]",
      "text/plain": [
       "<Figure size 432x288 with 1 Axes>"
      ]
     },
     "metadata": {
      "needs_background": "light"
     },
     "output_type": "display_data"
    }
   ],
   "source": [
    "# boxplot of the data\n",
    "plt.boxplot(data)\n",
    "plt.show()"
   ]
  },
  {
   "cell_type": "code",
   "execution_count": null,
   "id": "f0001b20",
   "metadata": {},
   "outputs": [],
   "source": []
  }
 ],
 "metadata": {
  "kernelspec": {
   "display_name": "Python 3 (ipykernel)",
   "language": "python",
   "name": "python3"
  },
  "language_info": {
   "codemirror_mode": {
    "name": "ipython",
    "version": 3
   },
   "file_extension": ".py",
   "mimetype": "text/x-python",
   "name": "python",
   "nbconvert_exporter": "python",
   "pygments_lexer": "ipython3",
   "version": "3.9.7"
  }
 },
 "nbformat": 4,
 "nbformat_minor": 5
}
